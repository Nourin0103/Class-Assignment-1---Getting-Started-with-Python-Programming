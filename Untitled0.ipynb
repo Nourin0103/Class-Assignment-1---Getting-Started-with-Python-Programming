{
  "nbformat": 4,
  "nbformat_minor": 0,
  "metadata": {
    "colab": {
      "name": "Untitled0.ipynb",
      "provenance": [],
      "collapsed_sections": [],
      "authorship_tag": "ABX9TyMYYtbn2xrfWOP5FW2lK34D",
      "include_colab_link": true
    },
    "kernelspec": {
      "name": "python3",
      "display_name": "Python 3"
    }
  },
  "cells": [
    {
      "cell_type": "markdown",
      "metadata": {
        "id": "view-in-github",
        "colab_type": "text"
      },
      "source": [
        "<a href=\"https://colab.research.google.com/github/Nourin0103/Class-Assignment-1---Getting-Started-with-Python-Programming/blob/master/Untitled0.ipynb\" target=\"_parent\"><img src=\"https://colab.research.google.com/assets/colab-badge.svg\" alt=\"Open In Colab\"/></a>"
      ]
    },
    {
      "cell_type": "code",
      "metadata": {
        "id": "7kHwINd8SPmn",
        "colab_type": "code",
        "colab": {
          "base_uri": "https://localhost:8080/",
          "height": 67
        },
        "outputId": "b684068a-0613-4ed0-eb90-67c1a921ba17"
      },
      "source": [
        "a=str(input(\"Enter your name:\"))\n",
        "b=str(input(\"Enter your address:\"))\n",
        "c=str(input(\"Enter your telephone number:\"))"
      ],
      "execution_count": null,
      "outputs": [
        {
          "output_type": "stream",
          "text": [
            "Enter your name:Nourin\n",
            "Enter your address:minnumeenu gssnra 255\n",
            "Enter your telephone number:9446363321\n"
          ],
          "name": "stdout"
        }
      ]
    },
    {
      "cell_type": "code",
      "metadata": {
        "id": "yM0O3X0QuQSo",
        "colab_type": "code",
        "colab": {
          "base_uri": "https://localhost:8080/",
          "height": 162
        },
        "outputId": "7c9fb895-fb5d-4911-befd-34e08331d1a8"
      },
      "source": [
        "print(\"Your name is \", name)"
      ],
      "execution_count": null,
      "outputs": [
        {
          "output_type": "error",
          "ename": "NameError",
          "evalue": "ignored",
          "traceback": [
            "\u001b[0;31m---------------------------------------------------------------------------\u001b[0m",
            "\u001b[0;31mNameError\u001b[0m                                 Traceback (most recent call last)",
            "\u001b[0;32m<ipython-input-4-1d5d01df5d4e>\u001b[0m in \u001b[0;36m<module>\u001b[0;34m()\u001b[0m\n\u001b[0;32m----> 1\u001b[0;31m \u001b[0mprint\u001b[0m\u001b[0;34m(\u001b[0m\u001b[0;34m\"Your name is \"\u001b[0m\u001b[0;34m,\u001b[0m \u001b[0mname\u001b[0m\u001b[0;34m)\u001b[0m\u001b[0;34m\u001b[0m\u001b[0;34m\u001b[0m\u001b[0m\n\u001b[0m",
            "\u001b[0;31mNameError\u001b[0m: name 'name' is not defined"
          ]
        }
      ]
    },
    {
      "cell_type": "code",
      "metadata": {
        "id": "uzHoprMCvJ7-",
        "colab_type": "code",
        "colab": {
          "base_uri": "https://localhost:8080/",
          "height": 34
        },
        "outputId": "12e42d59-8ece-463c-b502-791d4c4c983b"
      },
      "source": [
        "name=\"Nourin\"\n",
        "print(\"your name is \", name)"
      ],
      "execution_count": null,
      "outputs": [
        {
          "output_type": "stream",
          "text": [
            "your name is  Nourin\n"
          ],
          "name": "stdout"
        }
      ]
    },
    {
      "cell_type": "code",
      "metadata": {
        "id": "e_3euyB9vENe",
        "colab_type": "code",
        "colab": {
          "base_uri": "https://localhost:8080/",
          "height": 67
        },
        "outputId": "f3639e25-fe96-4a23-b39d-e1964691bad0"
      },
      "source": [
        " width = int(input(\"Enter the width \"))\n",
        "height = int(input(\"Enter the height \"))\n",
        "area = width * height\n",
        "print(\"The area is\" , area, \"square units\")"
      ],
      "execution_count": null,
      "outputs": [
        {
          "output_type": "stream",
          "text": [
            "Enter the width 30\n",
            "Enter the height 20\n",
            "The area is 600 square units\n"
          ],
          "name": "stdout"
        }
      ]
    },
    {
      "cell_type": "code",
      "metadata": {
        "id": "NS6EixcMxrR9",
        "colab_type": "code",
        "colab": {
          "base_uri": "https://localhost:8080/",
          "height": 67
        },
        "outputId": "e0b3fbd9-e804-4f02-c392-90322a613df4"
      },
      "source": [
        "baselength = int(input(\"Enter the base length of the triangle \"))\n",
        "height = int(input(\"Enter the height of the triangle \"))\n",
        "area = ((baselength*height)/2)\n",
        "print(\"The area of the traingle is\" , area, \"square units\")"
      ],
      "execution_count": null,
      "outputs": [
        {
          "output_type": "stream",
          "text": [
            "Enter the base length of the triangle 12\n",
            "Enter the height of the triangle 15\n",
            "The area of the traingle is 90.0 square units\n"
          ],
          "name": "stdout"
        }
      ]
    },
    {
      "cell_type": "code",
      "metadata": {
        "id": "fHCWcEG_zc96",
        "colab_type": "code",
        "colab": {
          "base_uri": "https://localhost:8080/",
          "height": 50
        },
        "outputId": "277db946-9088-4ff3-c75b-3eeb2250a682"
      },
      "source": [
        "radius= (float(input(\"Enter the radius of the circle \")))\n",
        "area = 3.14 * radius ** 2\n",
        "print(\"The area of the circle is \", area ,\"square units\")"
      ],
      "execution_count": null,
      "outputs": [
        {
          "output_type": "stream",
          "text": [
            "Enter the radius of the circle 7\n",
            "The area of the circle is  153.86 square units\n"
          ],
          "name": "stdout"
        }
      ]
    },
    {
      "cell_type": "code",
      "metadata": {
        "id": "w0k2oA7M0WJk",
        "colab_type": "code",
        "colab": {
          "base_uri": "https://localhost:8080/",
          "height": 67
        },
        "outputId": "1b031531-0067-4032-b6ce-40a00cc8a8ae"
      },
      "source": [
        "str(input(\"Enter your name\"))\n",
        "a=int(input(\"Enter your age\"))\n",
        "print(\"your name is\", name ,\"and your age is \", str(a) )"
      ],
      "execution_count": 29,
      "outputs": [
        {
          "output_type": "stream",
          "text": [
            "Enter your namenourin\n",
            "Enter your age19\n",
            "your name is Nourin and your age is  19\n"
          ],
          "name": "stdout"
        }
      ]
    },
    {
      "cell_type": "code",
      "metadata": {
        "id": "WQ-Ean3H1igk",
        "colab_type": "code",
        "colab": {
          "base_uri": "https://localhost:8080/",
          "height": 50
        },
        "outputId": "b7b80141-b721-4b2b-e37f-76052d9fe535"
      },
      "source": [
        "x=int(input(\"Enter a number\"))\n",
        "a= x+1\n",
        "print(\"the result is\", a)"
      ],
      "execution_count": null,
      "outputs": [
        {
          "output_type": "stream",
          "text": [
            "Enter a number87\n",
            "the result is 88\n"
          ],
          "name": "stdout"
        }
      ]
    },
    {
      "cell_type": "code",
      "metadata": {
        "id": "D73j-4wE2QiQ",
        "colab_type": "code",
        "colab": {
          "base_uri": "https://localhost:8080/",
          "height": 34
        },
        "outputId": "76e149ff-f9b4-4210-c2eb-6fc1f2cddaf6"
      },
      "source": [
        "a= str(input(\"Enter your first name \"))\n"
      ],
      "execution_count": null,
      "outputs": [
        {
          "output_type": "stream",
          "text": [
            "Enter your first name Nourin\n"
          ],
          "name": "stdout"
        }
      ]
    },
    {
      "cell_type": "markdown",
      "metadata": {
        "id": "imI3fwyy4zVp",
        "colab_type": "text"
      },
      "source": [
        ""
      ]
    }
  ]
}
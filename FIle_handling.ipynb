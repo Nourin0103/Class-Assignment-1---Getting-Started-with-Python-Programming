{
  "nbformat": 4,
  "nbformat_minor": 0,
  "metadata": {
    "colab": {
      "name": "FIle handling",
      "provenance": [],
      "collapsed_sections": [],
      "authorship_tag": "ABX9TyN9Q1iDD6UnmFPVikJDr2gq",
      "include_colab_link": true
    },
    "kernelspec": {
      "name": "python3",
      "display_name": "Python 3"
    }
  },
  "cells": [
    {
      "cell_type": "markdown",
      "metadata": {
        "id": "view-in-github",
        "colab_type": "text"
      },
      "source": [
        "<a href=\"https://colab.research.google.com/github/Nourin0103/Class-Assignment-1---Getting-Started-with-Python-Programming/blob/master/FIle_handling.ipynb\" target=\"_parent\"><img src=\"https://colab.research.google.com/assets/colab-badge.svg\" alt=\"Open In Colab\"/></a>"
      ]
    },
    {
      "cell_type": "code",
      "metadata": {
        "id": "ViWcC9M8dFpL"
      },
      "source": [
        " file1 = open(\"file1.txt\",\"w\")\n",
        " file1.write(\"%d %d %d %d %d\" %(8,1,3,2,1))\n",
        "9\n",
        " file1.close()\n",
        " file1 = open(\"file1.txt\",\"r\")\n",
        " s = file1.readline()\n",
        " s = s.split(\" \")\n",
        " t =[int(i) for i in s]\n",
        " t.sort()\n",
        " j =[]\n",
        " for b in t:\n",
        "     if b not in j:\n",
        "         j.append(b)\n",
        " file1.close()\n",
        " file1 = open(\"file1.txt\",\"w\")\n",
        " file1.write(j)\n",
        "\n",
        "  File \"<input>\", line 1, in <module>\n",
        "TypeError: write() argument must be str, not list\n",
        "file1.close()\n",
        " file1 = open(\"file1.txt\",\"r\")\n",
        " h = ','.join(str(o) for o in j)\n",
        " file1.close()\n",
        " file1 = open(\"file1.txt\",\"w\")\n",
        " file1.write(h)\n",
        "7\n",
        " file1.close()\n",
        " def copyFile(oldFile, newFile):\n",
        "  f1 = open(old, \"r\")\n",
        "   f2 = open(new, \"w\")\n",
        "   while True:\n",
        "     text = f1.read(50) #text = f1.readline()\n",
        "     if text == \"\":\n",
        "       break\n",
        "     f2.write(text)\n",
        "   f1.close()\n",
        "   f2.close()\n",
        "   return\n",
        " \n",
        " copyFile(\"file2.txt\")\n",
        " file2 = open(\"file2.txt\",\"r\")\n",
        " print(file2.read())\n",
        "1,2,3,8"
      ],
      "execution_count": null,
      "outputs": []
    },
    {
      "cell_type": "code",
      "metadata": {
        "id": "BrjTQEH8EuUg"
      },
      "source": [
        "def delblankline(old,new):\n",
        "  f1 = open(old, \"r\")\n",
        "  f2 = open(new, \"w\")\n",
        "  while True:\n",
        "   text = f1.readline()\n",
        "   if text == \"\" :\n",
        "     break\n",
        "   if text == '\\0':\n",
        "     continue\n",
        "   f2.write(text)\n",
        "  f1.close()\n",
        "  f2.close() \n",
        "  return "
      ],
      "execution_count": null,
      "outputs": []
    }
  ]
}
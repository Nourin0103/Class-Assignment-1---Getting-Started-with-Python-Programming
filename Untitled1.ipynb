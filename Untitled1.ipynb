{
  "nbformat": 4,
  "nbformat_minor": 0,
  "metadata": {
    "colab": {
      "name": "Untitled1.ipynb",
      "provenance": [],
      "collapsed_sections": [],
      "authorship_tag": "ABX9TyPLj0IDE4Wr+jv8qsB+4kjd",
      "include_colab_link": true
    },
    "kernelspec": {
      "name": "python3",
      "display_name": "Python 3"
    }
  },
  "cells": [
    {
      "cell_type": "markdown",
      "metadata": {
        "id": "view-in-github",
        "colab_type": "text"
      },
      "source": [
        "<a href=\"https://colab.research.google.com/github/Nourin0103/Class-Assignment-1---Getting-Started-with-Python-Programming/blob/master/Untitled1.ipynb\" target=\"_parent\"><img src=\"https://colab.research.google.com/assets/colab-badge.svg\" alt=\"Open In Colab\"/></a>"
      ]
    },
    {
      "cell_type": "code",
      "metadata": {
        "id": "KDTAMo0ydrh9",
        "colab_type": "code",
        "colab": {
          "base_uri": "https://localhost:8080/",
          "height": 67
        },
        "outputId": "d320eb2a-db65-4d10-9676-a325a90a0f7e"
      },
      "source": [
        "\n",
        "import math\n",
        "import os\n",
        "import random\n",
        "import re\n",
        "import sys\n",
        "\n",
        "\n",
        "\n",
        "if __name__ == '__main__':\n",
        "    a = input(\" Enter the first string \")\n",
        "\n",
        "    b = input(\" Enter the second string \")\n",
        "    if a==b:\n",
        "        print(\"Equal\")\n",
        "        \n",
        "    elif  a!=b:\n",
        "        print(\"NotEqual\")\n"
      ],
      "execution_count": null,
      "outputs": [
        {
          "output_type": "stream",
          "text": [
            " Enter the first string Saturday\n",
            " Enter the second string Friday\n",
            "NotEqual\n"
          ],
          "name": "stdout"
        }
      ]
    },
    {
      "cell_type": "code",
      "metadata": {
        "id": "XqH6KSWeeBIe",
        "colab_type": "code",
        "colab": {
          "base_uri": "https://localhost:8080/",
          "height": 67
        },
        "outputId": "9860502d-5499-41a4-e6a9-82aae14ab3c7"
      },
      "source": [
        "a= input(\" Enter first number \")\n",
        "b= input(\" Enter second number \")\n",
        "sum= (float(a)+float(b))\n",
        "print(\" The sum of \", a ,\"and\" ,b ,\"is\" ,sum)"
      ],
      "execution_count": null,
      "outputs": [
        {
          "output_type": "stream",
          "text": [
            " Enter first number 2\n",
            " Enter second number 5\n",
            " The sum of  2 and 5 is 7.0\n"
          ],
          "name": "stdout"
        }
      ]
    },
    {
      "cell_type": "code",
      "metadata": {
        "id": "ZvyAMxBOjaR5",
        "colab_type": "code",
        "colab": {
          "base_uri": "https://localhost:8080/",
          "height": 50
        },
        "outputId": "2373e683-3f0d-4007-e7c0-3ba4398ff22a"
      },
      "source": [
        "number = int(input(\" Enter a number \"))\n",
        "sqrt = number ** 0.5\n",
        "print(\" The square root of \", number, \"is \", sqrt )"
      ],
      "execution_count": null,
      "outputs": [
        {
          "output_type": "stream",
          "text": [
            " Enter a number 4\n",
            " The square root of  4 is  2.0\n"
          ],
          "name": "stdout"
        }
      ]
    },
    {
      "cell_type": "code",
      "metadata": {
        "id": "aU8X_pDqkTTO",
        "colab_type": "code",
        "colab": {
          "base_uri": "https://localhost:8080/",
          "height": 84
        },
        "outputId": "7e2fd07f-fe7f-43de-f164-3d3fbc83ab08"
      },
      "source": [
        "a = float(input(\" Enter the first side \"))\n",
        "b = float(input(\" Enter the second side \"))\n",
        "c = float(input(\" Enter the third side \"))\n",
        "s = a+b+c/2 \n",
        "area = (s*(s-a)*(s-b)*(s-c))**0.5\n",
        "print(\" The area of the triangle is \", area )"
      ],
      "execution_count": null,
      "outputs": [
        {
          "output_type": "stream",
          "text": [
            " Enter the first side 13\n",
            " Enter the second side 14\n",
            " Enter the third side 15\n",
            " The area of the triangle is  544.5315073528803\n"
          ],
          "name": "stdout"
        }
      ]
    },
    {
      "cell_type": "code",
      "metadata": {
        "id": "D8ApGiyRl5ER",
        "colab_type": "code",
        "colab": {
          "base_uri": "https://localhost:8080/",
          "height": 50
        },
        "outputId": "c7b4f0fd-7b74-4fae-8239-cde88b31b9ed"
      },
      "source": [
        "celsius = float(input(\" Enter the temparature in celsius \"))\n",
        "fahrenheit = (celsius * 1.8 ) + 32\n",
        "print(celsius , \"C is equal to \" , fahrenheit , \"F\")"
      ],
      "execution_count": null,
      "outputs": [
        {
          "output_type": "stream",
          "text": [
            " Enter the temparature in celsius 37\n",
            "37.0 C is equal to  98.60000000000001 F\n"
          ],
          "name": "stdout"
        }
      ]
    },
    {
      "cell_type": "code",
      "metadata": {
        "id": "bdfrmowzoJbj",
        "colab_type": "code",
        "colab": {
          "base_uri": "https://localhost:8080/",
          "height": 50
        },
        "outputId": "da9ae3c4-fe93-4f79-9743-c0a8a80daf8f"
      },
      "source": [
        "a = float(input(\" Enter  the number \"))\n",
        "if a>0:\n",
        "  print(\" Positive \")\n",
        "if a<0:\n",
        "  print(\" Negative \")\n",
        "if a==0:\n",
        "  print(\" Zero \") "
      ],
      "execution_count": null,
      "outputs": [
        {
          "output_type": "stream",
          "text": [
            " Enter  the number 1\n",
            " Positive \n"
          ],
          "name": "stdout"
        }
      ]
    },
    {
      "cell_type": "code",
      "metadata": {
        "id": "a5dkxRuxni2d",
        "colab_type": "code",
        "colab": {
          "base_uri": "https://localhost:8080/",
          "height": 84
        },
        "outputId": "544cb945-fa5c-4bc2-a993-bc0d03f5adce"
      },
      "source": [
        "a = float(input(\" Enter the first number \"))\n",
        "b = float(input(\" Enter the second number \"))\n",
        "c = float(input(\" Enter the third number \"))\n",
        "if(a>b) and (a>c):\n",
        "  print(\" Largest number is \",a)\n",
        "elif(b>a) and (b>c):\n",
        "  print( \" Largest number is \",b)\n",
        "else:\n",
        "  print(\" Largest number is \",c)\n"
      ],
      "execution_count": null,
      "outputs": [
        {
          "output_type": "stream",
          "text": [
            " Enter the first number 5\n",
            " Enter the second number 6\n",
            " Enter the third number 7\n",
            " Largest number is  7.0\n"
          ],
          "name": "stdout"
        }
      ]
    }
  ]
}
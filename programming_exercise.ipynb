{
  "nbformat": 4,
  "nbformat_minor": 0,
  "metadata": {
    "colab": {
      "name": "programming exercise",
      "provenance": [],
      "collapsed_sections": [],
      "authorship_tag": "ABX9TyO2utTqwKmqm/Xg7986lIH1",
      "include_colab_link": true
    },
    "kernelspec": {
      "name": "python3",
      "display_name": "Python 3"
    }
  },
  "cells": [
    {
      "cell_type": "markdown",
      "metadata": {
        "id": "view-in-github",
        "colab_type": "text"
      },
      "source": [
        "<a href=\"https://colab.research.google.com/github/Nourin0103/Class-Assignment-1---Getting-Started-with-Python-Programming/blob/master/programming_exercise.ipynb\" target=\"_parent\"><img src=\"https://colab.research.google.com/assets/colab-badge.svg\" alt=\"Open In Colab\"/></a>"
      ]
    },
    {
      "cell_type": "code",
      "metadata": {
        "id": "0qByJxRl84SY",
        "outputId": "c4b26e8f-c92f-4971-f0c4-5c5fddf561bf",
        "colab": {
          "base_uri": "https://localhost:8080/",
          "height": 34
        }
      },
      "source": [
        "list=[8,7,6,5,4]\n",
        "large=list[0]\n",
        "for i in list:\n",
        "  if i >large:\n",
        "    large =i\n",
        "print(large)"
      ],
      "execution_count": null,
      "outputs": [
        {
          "output_type": "stream",
          "text": [
            "8\n"
          ],
          "name": "stdout"
        }
      ]
    },
    {
      "cell_type": "code",
      "metadata": {
        "id": "ayoxbeIk9Smk",
        "outputId": "86f1276f-af44-44a9-bbd1-deb8f1a75078",
        "colab": {
          "base_uri": "https://localhost:8080/",
          "height": 67
        }
      },
      "source": [
        "list=[1,2,4,7,9]\n",
        "print(list)\n",
        "k=int(input(\"enter the number to search \"))\n",
        "for i in list:\n",
        "  if i==k:\n",
        "   print (\"element found\")\n",
        "   break\n",
        "else:\n",
        "  print(\"not found\")"
      ],
      "execution_count": null,
      "outputs": [
        {
          "output_type": "stream",
          "text": [
            "[1, 2, 4, 7, 9]\n",
            "enter the number to search 4\n",
            "element found\n"
          ],
          "name": "stdout"
        }
      ]
    },
    {
      "cell_type": "code",
      "metadata": {
        "id": "C3Ue7z8P-t1n",
        "outputId": "24e5a183-2871-4bfc-e0d1-01da2e0e3fe3",
        "colab": {
          "base_uri": "https://localhost:8080/",
          "height": 34
        }
      },
      "source": [
        "list=[7,8,5,4,3]\n",
        "sum=0\n",
        "for i in list:\n",
        " sum=sum+i\n",
        "print(\"sum is \" , sum)\n"
      ],
      "execution_count": null,
      "outputs": [
        {
          "output_type": "stream",
          "text": [
            "sum is  27\n"
          ],
          "name": "stdout"
        }
      ]
    },
    {
      "cell_type": "code",
      "metadata": {
        "id": "C-Op_VnvxFwZ",
        "outputId": "42f04099-6b37-4029-cc21-36aa878ce013",
        "colab": {
          "base_uri": "https://localhost:8080/",
          "height": 50
        }
      },
      "source": [
        "list=[4,4,8,14,56,9,5]\n",
        "print(list)\n",
        "newlist=[]\n",
        "for i in list:\n",
        " if i not in newlist:\n",
        "  newlist.append(i)\n",
        "print(newlist)\n",
        "\n"
      ],
      "execution_count": null,
      "outputs": [
        {
          "output_type": "stream",
          "text": [
            "[4, 4, 8, 14, 56, 9, 5]\n",
            "[4, 8, 14, 56, 9, 5]\n"
          ],
          "name": "stdout"
        }
      ]
    },
    {
      "cell_type": "code",
      "metadata": {
        "id": "lzPaWoJ3ycfh",
        "outputId": "156096d9-1a1b-446a-c874-c7d84770e541",
        "colab": {
          "base_uri": "https://localhost:8080/",
          "height": 50
        }
      },
      "source": [
        "def common(list1,list2):\n",
        "  for i in list1:\n",
        "    for j in list2:\n",
        "      if i==j:\n",
        "        return True\n",
        "print(common([4,5,6],[6,7,8,9]))\n",
        "print(common([6,7],[8,9]))"
      ],
      "execution_count": null,
      "outputs": [
        {
          "output_type": "stream",
          "text": [
            "True\n",
            "None\n"
          ],
          "name": "stdout"
        }
      ]
    },
    {
      "cell_type": "code",
      "metadata": {
        "id": "ejW8LQ5n1yll",
        "outputId": "85e2e6e4-63b3-445e-f91f-4fe12fc9e375",
        "colab": {
          "base_uri": "https://localhost:8080/",
          "height": 34
        }
      },
      "source": [
        "list1=[6,7,8]\n",
        "list2=['e','f','g']\n",
        "list=list1+list2\n",
        "print(list)\n"
      ],
      "execution_count": null,
      "outputs": [
        {
          "output_type": "stream",
          "text": [
            "[6, 7, 8, 'e', 'f', 'g']\n"
          ],
          "name": "stdout"
        }
      ]
    },
    {
      "cell_type": "code",
      "metadata": {
        "id": "zDCYW9YP2e5J",
        "outputId": "d29ab9dd-2e56-4921-bb26-40a558df310f",
        "colab": {
          "base_uri": "https://localhost:8080/",
          "height": 50
        }
      },
      "source": [
        "n=int(input(\"enter a number \"))\n",
        "fact=0\n",
        "for i in range(1,n):\n",
        " if n%i==0:\n",
        "  fact=i\n",
        "if fact>1:\n",
        "  print(\"composite number\")\n",
        "elif n==1:\n",
        "  print(\"neither composite nor prime\")\n",
        "else:\n",
        "  print(\"prime number\")"
      ],
      "execution_count": null,
      "outputs": [
        {
          "output_type": "stream",
          "text": [
            "enter a number 6\n",
            "composite number\n"
          ],
          "name": "stdout"
        }
      ]
    },
    {
      "cell_type": "code",
      "metadata": {
        "id": "c5JSF2AZ4LGa",
        "outputId": "48448c3f-863f-4f44-fa17-5d611c325491",
        "colab": {
          "base_uri": "https://localhost:8080/",
          "height": 34
        }
      },
      "source": [
        "X=[[3,4,4],[6,9,6],[1,1,1]]\n",
        "Y=[[23,6,11],[3,6,8],[8,12,3]]\n",
        "RESULT=[[0,0,0],[0,0,0],[0,0,0]]\n",
        "for i in range(len(X)):\n",
        "  for j in range(len(X[0])):\n",
        "    RESULT[i][j]=X[i][j]+Y[i][j]\n",
        "print(RESULT)"
      ],
      "execution_count": null,
      "outputs": [
        {
          "output_type": "stream",
          "text": [
            "[[26, 10, 15], [9, 15, 14], [9, 13, 4]]\n"
          ],
          "name": "stdout"
        }
      ]
    },
    {
      "cell_type": "code",
      "metadata": {
        "id": "U-35TtSs6Dmz",
        "outputId": "eb877e58-7399-4772-b6f8-c761b6ff0ced",
        "colab": {
          "base_uri": "https://localhost:8080/",
          "height": 50
        }
      },
      "source": [
        "def palindrome(str):\n",
        "  rev=''.join(reversed(str))\n",
        "  if str==rev:\n",
        "    return True\n",
        "  return False\n",
        "str=input(\"enter a word \")\n",
        "word= palindrome(str)\n",
        "if (word):\n",
        "  print(\"it is palindrome\")\n",
        "else:\n",
        " print(\"it is not palindrome\")"
      ],
      "execution_count": null,
      "outputs": [
        {
          "output_type": "stream",
          "text": [
            "enter a word malayalam\n",
            "it is palindrome\n"
          ],
          "name": "stdout"
        }
      ]
    },
    {
      "cell_type": "code",
      "metadata": {
        "id": "W0lmCiOs7Kw_",
        "outputId": "77d6f981-332c-487c-e0e7-f6e60bae80a9",
        "colab": {
          "base_uri": "https://localhost:8080/",
          "height": 168
        }
      },
      "source": [
        "num=int(input(\"enter a number \"))\n",
        "for i in range(1,9):\n",
        " print(num,\"x\",i,\"=\",num*i)"
      ],
      "execution_count": null,
      "outputs": [
        {
          "output_type": "stream",
          "text": [
            "enter a number 8\n",
            "8 x 1 = 8\n",
            "8 x 2 = 16\n",
            "8 x 3 = 24\n",
            "8 x 4 = 32\n",
            "8 x 5 = 40\n",
            "8 x 6 = 48\n",
            "8 x 7 = 56\n",
            "8 x 8 = 64\n"
          ],
          "name": "stdout"
        }
      ]
    }
  ]
}